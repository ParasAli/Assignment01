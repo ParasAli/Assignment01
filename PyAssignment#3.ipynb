{
 "cells": [
  {
   "cell_type": "code",
   "execution_count": 1,
   "metadata": {},
   "outputs": [
    {
     "name": "stdout",
     "output_type": "stream",
     "text": [
      "Enter first value = 6\n",
      "Enter second value = 9\n",
      "Enter operator = /\n",
      "Answer =  0.6666666666666666\n"
     ]
    }
   ],
   "source": [
    "#Make a calculator using Python with addition , subtraction , multiplication , division and power\n",
    "val1 = int(input('Enter first value = '))\n",
    "val2 = int(input('Enter second value = '))\n",
    "operator = input('Enter operator = ')\n",
    "if operator == '+' :\n",
    "    val = val1 + val2 \n",
    "    print('Answer = ',val)\n",
    "elif operator == '-' :\n",
    "    val = val1 - val2 \n",
    "    print('Answer = ',val)\n",
    "elif operator == '*' :\n",
    "    val = val1 * val2 \n",
    "    print('Answer = ',val)\n",
    "elif operator == '/' :\n",
    "    val = val1 / val2 \n",
    "    print('Answer = ',val)\n",
    "elif operator == '**' :\n",
    "    val = val1 ** val2 \n",
    "    print('Answer = ',val)\n",
    "else :\n",
    "    print('Enter correct operator')"
   ]
  },
  {
   "cell_type": "code",
   "execution_count": 2,
   "metadata": {},
   "outputs": [
    {
     "name": "stdout",
     "output_type": "stream",
     "text": [
      "2\n",
      "0.6\n",
      "5\n"
     ]
    }
   ],
   "source": [
    "#Program to check if there is any numeric value in list using for loop\n",
    "list1 = ['banana', 2, 0.6,5, True]\n",
    "for n in list1:\n",
    "    if type(n) == int or type(n) == float:\n",
    "        print(n)"
   ]
  },
  {
   "cell_type": "code",
   "execution_count": 3,
   "metadata": {},
   "outputs": [
    {
     "name": "stdout",
     "output_type": "stream",
     "text": [
      "{'name': 'ali', 'male': 'male', 'age': 29, 'pakistani': True, 'height': 5.5, 1: 'new key'}\n"
     ]
    }
   ],
   "source": [
    "#Python script to add a key to a dictionary\n",
    "a_dict = {'name':'ali', 'male':'male', 'age':29, 'pakistani':True, 'height':5.5 }\n",
    "a_dict[1]= 'new key'\n",
    "print(a_dict)"
   ]
  },
  {
   "cell_type": "code",
   "execution_count": 4,
   "metadata": {},
   "outputs": [
    {
     "name": "stdout",
     "output_type": "stream",
     "text": [
      "Total fruits = {12}\n"
     ]
    }
   ],
   "source": [
    "#Python program to sum all the numeric items in a dictionary\n",
    "num = 0\n",
    "fruit_dict = {'apples':4, 'bananas': 6, 'pine_apples':2}\n",
    "for value in fruit_dict.values():\n",
    "    if type(value) == int or type(value) == float:\n",
    "        num = num + value\n",
    "print('Total fruits =', {num} )"
   ]
  },
  {
   "cell_type": "code",
   "execution_count": 5,
   "metadata": {},
   "outputs": [
    {
     "name": "stdout",
     "output_type": "stream",
     "text": [
      "Duplicated {'onions'}\n",
      "Duplicated {2}\n",
      "Duplicated {'onions'}\n",
      "Duplicated {2}\n"
     ]
    }
   ],
   "source": [
    "#Program to identify duplicate values from list\n",
    "veg_list = ['onions', 2, 'onions', 2, 'potatoes', 6, 'turnip',9]\n",
    "for i in veg_list:\n",
    "    if veg_list.count(i)>1 :\n",
    "        print(\"Duplicated\", {i})"
   ]
  },
  {
   "cell_type": "code",
   "execution_count": 6,
   "metadata": {},
   "outputs": [
    {
     "name": "stdout",
     "output_type": "stream",
     "text": [
      "already existed\n"
     ]
    }
   ],
   "source": [
    "#Python script to check if a given key already exists in a dictionary\n",
    "a_dict = {'name':'ali', 'male':'male', 'age':29, 'pakistani':True, 'height':5.5 }\n",
    "for i in a_dict:\n",
    "    if i == 'name':\n",
    "        print(\"already existed\")"
   ]
  },
  {
   "cell_type": "code",
   "execution_count": null,
   "metadata": {},
   "outputs": [],
   "source": []
  }
 ],
 "metadata": {
  "kernelspec": {
   "display_name": "Python 3",
   "language": "python",
   "name": "python3"
  },
  "language_info": {
   "codemirror_mode": {
    "name": "ipython",
    "version": 3
   },
   "file_extension": ".py",
   "mimetype": "text/x-python",
   "name": "python",
   "nbconvert_exporter": "python",
   "pygments_lexer": "ipython3",
   "version": "3.7.4"
  }
 },
 "nbformat": 4,
 "nbformat_minor": 2
}
