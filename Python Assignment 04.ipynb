{
 "cells": [
  {
   "cell_type": "code",
   "execution_count": 1,
   "metadata": {},
   "outputs": [
    {
     "data": {
      "text/plain": [
       "{'first_name': 'Paras', 'last_name': 'Ali', 'age': '24', 'city': 'Islamabad'}"
      ]
     },
     "execution_count": 1,
     "metadata": {},
     "output_type": "execute_result"
    }
   ],
   "source": [
    "'''Question1:\n",
    "Use a dictionary to store information about a person you know. \n",
    "Store their first name, last name, age, and the city in which they live. \n",
    "You should have keys such as first_name, last_name, age, and city. \n",
    "Print each piece of information stored in your dictionary. \n",
    "Add a new key value pair about qualification then update the qualification value to high academic level then delete it.\n",
    "'''\n",
    "\n",
    "\n",
    "data_dict = {'first_name': 'Paras', 'last_name': 'Ali', 'age': '24', 'city':'Islamabad'}\n",
    "data_dict"
   ]
  },
  {
   "cell_type": "code",
   "execution_count": 2,
   "metadata": {},
   "outputs": [
    {
     "name": "stdout",
     "output_type": "stream",
     "text": [
      "{'first_name': 'Paras', 'last_name': 'Ali', 'age': '24', 'city': 'Islamabad', 'Qualification': 'B.E'}\n"
     ]
    }
   ],
   "source": [
    "#Add a new key value pair about qualification \n",
    "data_dict['Qualification'] = 'B.E'\n",
    "print(data_dict)"
   ]
  },
  {
   "cell_type": "code",
   "execution_count": 7,
   "metadata": {},
   "outputs": [
    {
     "name": "stdout",
     "output_type": "stream",
     "text": [
      "{'first_name': 'Paras', 'last_name': 'Ali', 'age': '24', 'city': 'Islamabad', 'Qualification': 'Telecom '}\n"
     ]
    }
   ],
   "source": [
    "#update the qualification value to high academic level\n",
    "data_dict['Qualification'] = 'Telecom '\n",
    "print(data_dict)"
   ]
  },
  {
   "cell_type": "code",
   "execution_count": 8,
   "metadata": {},
   "outputs": [
    {
     "data": {
      "text/plain": [
       "'Telecom '"
      ]
     },
     "execution_count": 8,
     "metadata": {},
     "output_type": "execute_result"
    }
   ],
   "source": [
    "#delete the value from your dictionary\n",
    "data_dict.pop('Qualification')"
   ]
  },
  {
   "cell_type": "code",
   "execution_count": 9,
   "metadata": {},
   "outputs": [
    {
     "data": {
      "text/plain": [
       "{'first_name': 'Paras', 'last_name': 'Ali', 'age': '24', 'city': 'Islamabad'}"
      ]
     },
     "execution_count": 9,
     "metadata": {},
     "output_type": "execute_result"
    }
   ],
   "source": [
    "data_dict"
   ]
  },
  {
   "cell_type": "code",
   "execution_count": 10,
   "metadata": {},
   "outputs": [
    {
     "data": {
      "text/plain": [
       "{'karachi': {'country': 'Pakistan',\n",
       "  'population': '3 millions',\n",
       "  'fact': 'Capital of Sindh'},\n",
       " 'Lahore': {'country': 'Pakistan',\n",
       "  'population': '2 millions',\n",
       "  'fact': 'Capital of Punjab'},\n",
       " 'Peshawar': {'country': 'Pakistan',\n",
       "  'population': '1.5 millions',\n",
       "  'fact': 'Capital of KPK'}}"
      ]
     },
     "execution_count": 10,
     "metadata": {},
     "output_type": "execute_result"
    }
   ],
   "source": [
    "'''Question2:\n",
    "Make a dictionary called cities. \n",
    "Use the names of three cities as keys in your dictionary. \n",
    "Create a dictionary of information about each city and include the country that the city is in, \n",
    "its approximate population, and one fact about that city. \n",
    "The keys for each city’s dictionary should be something like country, population, and fact. \n",
    "Print the name of each city and all of the information you have stored about it.\n",
    "'''\n",
    "#Make a dictionary called cities. Use the names of three cities as keys in your dictionary\n",
    "\n",
    "cities = {'karachi': {'country':'Pakistan', 'population':'3 millions', 'fact': 'Capital of Sindh'},\n",
    "         'Lahore': {'country':'Pakistan', 'population':'2 millions', 'fact': 'Capital of Punjab'},\n",
    "          'Peshawar': {'country':'Pakistan', 'population':'1.5 millions', 'fact': 'Capital of KPK'}\n",
    "         }\n",
    "cities"
   ]
  },
  {
   "cell_type": "code",
   "execution_count": 11,
   "metadata": {},
   "outputs": [
    {
     "data": {
      "text/plain": [
       "{'country': 'Pakistan', 'population': '3 millions', 'fact': 'Capital of Sindh'}"
      ]
     },
     "execution_count": 11,
     "metadata": {},
     "output_type": "execute_result"
    }
   ],
   "source": [
    "#Print the name of each city and all of the information you have stored about it.\n",
    "\n",
    "cities['karachi']"
   ]
  },
  {
   "cell_type": "code",
   "execution_count": 12,
   "metadata": {},
   "outputs": [
    {
     "data": {
      "text/plain": [
       "{'country': 'Pakistan',\n",
       " 'population': '2 millions',\n",
       " 'fact': 'Capital of Punjab'}"
      ]
     },
     "execution_count": 12,
     "metadata": {},
     "output_type": "execute_result"
    }
   ],
   "source": [
    "#Print the name of each city and all of the information you have stored about it.\n",
    "\n",
    "cities['Lahore']"
   ]
  },
  {
   "cell_type": "code",
   "execution_count": 13,
   "metadata": {},
   "outputs": [
    {
     "data": {
      "text/plain": [
       "{'country': 'Pakistan', 'population': '1.5 millions', 'fact': 'Capital of KPK'}"
      ]
     },
     "execution_count": 13,
     "metadata": {},
     "output_type": "execute_result"
    }
   ],
   "source": [
    "#Print the name of each city and all of the information you have stored about it.\n",
    "\n",
    "cities['Peshawar']"
   ]
  },
  {
   "cell_type": "code",
   "execution_count": 14,
   "metadata": {},
   "outputs": [
    {
     "name": "stdout",
     "output_type": "stream",
     "text": [
      "Enter your age : 16\n",
      "Please pay $15\n"
     ]
    }
   ],
   "source": [
    "\"\"\"Question3:\n",
    "A movie theater charges different ticket prices depending on a person’s age. If a person is under the age of 3, \n",
    "the ticket is free; if they are between 3 and 12, the ticket is $10; and if they are over age 12, the ticket is $15. \n",
    "Write a loop in which you ask users their age, and then tell them the cost of their movie ticket.\"\"\"\n",
    "\n",
    "\n",
    "age = int(input(\"Enter your age : \"))\n",
    "if age < 3 :\n",
    "    print(\"You are free to go\")\n",
    "elif age == 3 or age <= 12:\n",
    "        print(\"Please pay $10\")\n",
    "elif age > 12:\n",
    "    print(\"Please pay $15\")\n"
   ]
  },
  {
   "cell_type": "code",
   "execution_count": 15,
   "metadata": {},
   "outputs": [
    {
     "name": "stdout",
     "output_type": "stream",
     "text": [
      "40 rules of love is one of my favorite books.\n"
     ]
    }
   ],
   "source": [
    "\"\"\" Question4:\n",
    "A movie theater charges different ticket prices depending on a person’s age. \n",
    "If a person is under the age of 3, the ticket is free; if they are between 3 and 12, the ticket is $10; \n",
    "and if they are over age 12, the ticket is $15. \n",
    "Write a loop in which you ask users their age, and then tell them the cost of their movie ticket.\"\"\"\n",
    "\n",
    "\n",
    "def favorite_book(title):\n",
    "    #Display a message about someone's favorite book\n",
    "    print(title + \" is one of my favorite books.\")\n",
    "\n",
    "favorite_book('40 rules of love')\n"
   ]
  },
  {
   "cell_type": "code",
   "execution_count": 16,
   "metadata": {},
   "outputs": [
    {
     "name": "stdout",
     "output_type": "stream",
     "text": [
      "Enter the Guess Number: 5\n",
      "You Guess Lower Number\n",
      "Computer's Guess Number:  30\n",
      "Enter the Guess Number: 13\n",
      "You Guess Higher Number\n",
      "Computer's Guess Number:  11\n",
      "Enter the Guess Number: 16\n",
      "You Guess Lower Number\n",
      "Computer's Guess Number:  24\n"
     ]
    }
   ],
   "source": [
    "\"\"\"Question5:\n",
    "Guess the number game\n",
    "Write a program which randomly generate a number between 1 to 30 and \n",
    "ask the user in input field to guess the correct number. \n",
    "Give three chances to user guess the number and also give hint to user if hidden number is greater \n",
    "or smaller than the number he given to input field.\n",
    " \"\"\"\n",
    "\n",
    "import random\n",
    "count = 0\n",
    "while count < 3:\n",
    "    guess = int(input(\"Enter the Guess Number: \"))\n",
    "    count += 1\n",
    "    rand = random.randint(1,30)\n",
    "    if guess == rand:\n",
    "        print(\"You Guess Correct Number\")\n",
    "    elif guess > rand:\n",
    "        print(\"You Guess Higher Number\")\n",
    "    elif guess < rand:\n",
    "        print(\"You Guess Lower Number\")\n",
    "    print(\"Computer's Guess Number: \",rand)\n"
   ]
  },
  {
   "cell_type": "code",
   "execution_count": null,
   "metadata": {},
   "outputs": [],
   "source": []
  }
 ],
 "metadata": {
  "kernelspec": {
   "display_name": "Python 3",
   "language": "python",
   "name": "python3"
  },
  "language_info": {
   "codemirror_mode": {
    "name": "ipython",
    "version": 3
   },
   "file_extension": ".py",
   "mimetype": "text/x-python",
   "name": "python",
   "nbconvert_exporter": "python",
   "pygments_lexer": "ipython3",
   "version": "3.7.4"
  }
 },
 "nbformat": 4,
 "nbformat_minor": 2
}
