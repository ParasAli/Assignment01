{
 "cells": [
  {
   "cell_type": "markdown",
   "metadata": {},
   "source": [
    "Question 1:\n",
    "Define Object Oriented Programming Language? \n",
    "\n",
    "Object-oriented programming (OOP) refers to a type of computer programming (software design) in which programmers define the data type of a data structure, and also the types of operations (functions) that can be applied to the data structure.\n",
    "In this way, the data structure becomes an object that includes both data and functions. In addition, programmers can create relationships between one object and another. For example, objects can inherit characteristics from other objects.\n"
   ]
  },
  {
   "cell_type": "markdown",
   "metadata": {},
   "source": [
    "Question 2:\n",
    "List down the Benefits of OOP? \n",
    "\n",
    "•\tIt provides a clear modular structure for programs which makes it good for defining abstract datatypes in which \n",
    "implementation details are hidden\n",
    "•\tObjects can also be reused within an across applications. The reuse of software also lowers the cost of development. \n",
    "More effort is put into the object-oriented analysis and design, which lowers the overall cost of development.\n",
    "•\tIt makes software easier to maintain. Since the design is modular, part of the system can be updated in case of \n",
    "issues without a need to make large-scale changes\n",
    "•\tReuse also enables faster development. Object-oriented programming languages come with rich libraries of objects, \n",
    "and code developed during projects is also reusable in future projects.\n",
    "•\tIt provides a good framework for code libraries where the supplied software components can be easily adapted and \n",
    "modified by the programmer. This is particularly useful for developing graphical user interfaces.\n",
    "•\tBetter Productivity as OOP techniques enforce rules on a programmer that, in the long run, help her get more work done; \n",
    "finished programs work better, have more features and are easier to read and maintain. OOP programmers take new and \n",
    "existing software objects and \"stitch\" them together to make new programs. Because object libraries contain many \n",
    "useful functions, software developers don't have to reinvent the wheel as often; more of their time goes into \n",
    "making the new program.\n"
   ]
  },
  {
   "cell_type": "markdown",
   "metadata": {},
   "source": [
    "Qusetion 3: Differentiate between function and method?\n",
    "\n",
    "Functions: Function can be defined outside as well it can be used as a single body in program.\n",
    "Methods: Functions in the class having diferent functionalities and features within the class are basically Methods\n"
   ]
  },
  {
   "cell_type": "markdown",
   "metadata": {},
   "source": [
    "Question 4: Define the following terms:\n",
    "        \n",
    "1.Class    2.Object    3.Attribute     4.Behavior \n",
    "\n",
    "1. Class\n",
    "A class is a code template for creating objects. Objects have member variables and have behaviour associated with them. \n",
    "In python a class is created by the keyword class . An object is created using the constructor of the class.\n",
    "\n",
    "2. Object\n",
    "The object() function returns an empty object. You cannot add new properties or methods to this object. \n",
    "This object is the base for all classes, it holds the built-in properties and methods which are default for all classes.\n",
    "\n",
    "3. Attribute\n",
    "The physical appearance and look of code /program.\n",
    "\n",
    "4. Behavior\n",
    "Specific Functionalities and Operations that a mehtod can perform.\n"
   ]
  },
  {
   "cell_type": "code",
   "execution_count": 1,
   "metadata": {},
   "outputs": [
    {
     "name": "stdout",
     "output_type": "stream",
     "text": [
      "Company Name:  HondaCity\n",
      "Car Color: Silver\n",
      "The model is 2017\n",
      "Car engine: 1100 CC\n",
      "The fixed price for this Car is:  1.0 million\n",
      "\n",
      "For Updated Car:\n",
      "\n",
      "Company Name:  HondaCity\n",
      "Car Color: Silver\n",
      "The model is 2020\n",
      "Car engine: 1300 CC\n",
      "The fixed price for this Car is:  2.1 million\n"
     ]
    }
   ],
   "source": [
    "'''Question 5:\n",
    "Write a code in python in which create a class named it Car which have 5 attributes \n",
    "such like (model, color and name etc.) and 3 methods. And create 5 object instance from that class.'''\n",
    "\n",
    "class Car: \n",
    "# init method or constructor  \n",
    "    def __init__(self,comp,color,model,engin): \n",
    "        self.comp = comp\n",
    "        self.color = color\n",
    "        self.model = model\n",
    "        self.engin = engin\n",
    "    #default Attribute..\n",
    "        self.price = \"1.0 million\"\n",
    "\n",
    "# Simple Methods  \n",
    "    def Showroom(self): \n",
    "        print('Company Name: ', self.comp)\n",
    "        print(\"Car Color:\",self.color)\n",
    "        print(\"The model is\",self.model)\n",
    "        print(\"Car engine:\",self.engin,\"CC\")\n",
    "        print(\"The fixed price for this Car is: \",self.price)\n",
    "    def upmodel(self,newmodel):\n",
    "        self.model = newmodel\n",
    "    def upprice(self,newprice):\n",
    "        self.price = newprice\n",
    "    def upengin(self,newengin):\n",
    "        self.engin = newengin\n",
    "\n",
    "    #Object of class CAR        \n",
    "C = Car('HondaCity','Silver','2017',1100) \n",
    "#calling Obj\n",
    "C.Showroom()\n",
    "print(\"\\nFor Updated Car:\\n\")\n",
    "#Updating Values through Obj \n",
    "C.upmodel('2020')\n",
    "C.upprice('2.1 million')\n",
    "C.upengin(1300)\n",
    "C.Showroom()\n",
    "\n"
   ]
  },
  {
   "cell_type": "code",
   "execution_count": null,
   "metadata": {},
   "outputs": [],
   "source": []
  }
 ],
 "metadata": {
  "kernelspec": {
   "display_name": "Python 3",
   "language": "python",
   "name": "python3"
  },
  "language_info": {
   "codemirror_mode": {
    "name": "ipython",
    "version": 3
   },
   "file_extension": ".py",
   "mimetype": "text/x-python",
   "name": "python",
   "nbconvert_exporter": "python",
   "pygments_lexer": "ipython3",
   "version": "3.7.4"
  }
 },
 "nbformat": 4,
 "nbformat_minor": 2
}
