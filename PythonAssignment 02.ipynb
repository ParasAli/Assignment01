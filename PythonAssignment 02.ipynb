{
 "cells": [
  {
   "cell_type": "code",
   "execution_count": 1,
   "metadata": {},
   "outputs": [
    {
     "name": "stdout",
     "output_type": "stream",
     "text": [
      "Enter your English marks 14\n",
      "Enter your Science marks 16\n",
      "Enter your Urdu marks 17\n",
      "Enter your chemistry marks 16\n",
      "Enter your computer marks 18\n",
      "Your Total =  81\n",
      "your grade is A\n"
     ]
    }
   ],
   "source": [
    "#generate mark sheet using grades \n",
    "#Each subject carriess total marks of 20\n",
    "eng = int(input(\"Enter your English marks \"))\n",
    "sci = int(input(\"Enter your Science marks \"))\n",
    "urdu = int(input(\"Enter your Urdu marks \"))\n",
    "chem = int(input(\"Enter your chemistry marks \"))\n",
    "comp = int(input(\"Enter your computer marks \"))\n",
    "total = eng + sci + urdu + chem + comp\n",
    "print(\"Your Total = \" , total)\n",
    "perc = (total/100)* 100\n",
    "if perc >= 85 :\n",
    "    print(\"your grade is A+\")\n",
    "elif (perc >= 75) and (perc < 85) :\n",
    "        print (\"your grade is A\")\n",
    "elif (perc >=70) and (perc < 75) :\n",
    "    print(\" your grade is B\")\n",
    "elif (perc >=60) and (perc < 70) :\n",
    "    print(\" your grade is C\")\n",
    "elif (perc >=50) and (perc < 60) :\n",
    "    print(\" your grade is D\")\n",
    "else:\n",
    "     print(\"you failed\")"
   ]
  },
  {
   "cell_type": "code",
   "execution_count": 2,
   "metadata": {},
   "outputs": [
    {
     "name": "stdout",
     "output_type": "stream",
     "text": [
      "Enter a number: 9\n",
      "This is an odd number.\n"
     ]
    }
   ],
   "source": [
    "# Is the number even or odd ?\n",
    "num = int(input(\"Enter a number: \"))\n",
    "result = num % 2\n",
    "if result > 0:\n",
    "    print(\"This is an odd number.\")\n",
    "else:\n",
    "    print(\"This is an even number.\")\n"
   ]
  },
  {
   "cell_type": "code",
   "execution_count": 3,
   "metadata": {},
   "outputs": [
    {
     "name": "stdout",
     "output_type": "stream",
     "text": [
      "5\n"
     ]
    }
   ],
   "source": [
    "#print the length of the list\n",
    "arr1 = [\"mango\", \"apple\", True , 8 , 0.9]\n",
    "print(len(arr1))"
   ]
  },
  {
   "cell_type": "code",
   "execution_count": 7,
   "metadata": {},
   "outputs": [
    {
     "name": "stdout",
     "output_type": "stream",
     "text": [
      "sum =  108.1\n"
     ]
    }
   ],
   "source": [
    "# sum all the numeric items in a list\n",
    "arr3 = [2 , 9.6, 56, 40, 0.5]\n",
    "print(\"sum = \", sum(arr3))"
   ]
  },
  {
   "cell_type": "code",
   "execution_count": 5,
   "metadata": {},
   "outputs": [
    {
     "data": {
      "text/plain": [
       "91"
      ]
     },
     "execution_count": 5,
     "metadata": {},
     "output_type": "execute_result"
    }
   ],
   "source": [
    "#get the largest number from a numeric list\n",
    "random_numbers = [4, 91, 0, 3.9, 5.0]\n",
    "max(random_numbers)"
   ]
  },
  {
   "cell_type": "code",
   "execution_count": 8,
   "metadata": {},
   "outputs": [
    {
     "name": "stdout",
     "output_type": "stream",
     "text": [
      "1\n",
      "1\n",
      "2\n",
      "3\n"
     ]
    }
   ],
   "source": [
    "# prints out all the elements of the list that are less than 5\n",
    "a = [1, 1, 2, 3, 5, 8, 13, 21, 34, 55, 89]\n",
    "for i in a:\n",
    "    if i < 5 :\n",
    "        print (i)"
   ]
  },
  {
   "cell_type": "code",
   "execution_count": null,
   "metadata": {},
   "outputs": [],
   "source": []
  }
 ],
 "metadata": {
  "kernelspec": {
   "display_name": "Python 3",
   "language": "python",
   "name": "python3"
  },
  "language_info": {
   "codemirror_mode": {
    "name": "ipython",
    "version": 3
   },
   "file_extension": ".py",
   "mimetype": "text/x-python",
   "name": "python",
   "nbconvert_exporter": "python",
   "pygments_lexer": "ipython3",
   "version": "3.7.4"
  }
 },
 "nbformat": 4,
 "nbformat_minor": 2
}
