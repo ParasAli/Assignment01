{
 "cells": [
  {
   "cell_type": "code",
   "execution_count": 2,
   "metadata": {},
   "outputs": [
    {
     "name": "stdout",
     "output_type": "stream",
     "text": [
      "Enter Number to calculate its factorial: 4\n",
      "24\n"
     ]
    }
   ],
   "source": [
    "'''Question:1 \n",
    "Write a Python function to calculate the factorial of a number (a non-negative integer). \n",
    "The function accepts the number as an argument.'''\n",
    "\n",
    "def PositiveInteger(number):\n",
    "    if int(number) > 0 :\n",
    "        return True\n",
    "    else:\n",
    "        return False\n",
    "def Factorial_calc(number):\n",
    "    factorial = 1\n",
    "    if PositiveInteger(number) == True:\n",
    "        number = int(number)\n",
    "        for i in range(1, number + 1):\n",
    "            factorial = factorial * i\n",
    "        print(factorial)\n",
    "    else:\n",
    "        print(\"Invalid input\")\n",
    "\n",
    "num = input(\"Enter Number to calculate its factorial: \")\n",
    "Factorial_calc(num)\n"
   ]
  },
  {
   "cell_type": "code",
   "execution_count": 3,
   "metadata": {},
   "outputs": [
    {
     "name": "stdout",
     "output_type": "stream",
     "text": [
      "Enter Any CamelCase String: cOol\n",
      "Upper Case Letter in the String are: 1,\n",
      "Lower Case letters in the String are: 3\n"
     ]
    }
   ],
   "source": [
    "'''Question:2 \n",
    "Write a Python function that accepts a string and \n",
    "calculate the number of upper case letters and lower case letters.'''\n",
    "\n",
    "def caseCounter(string):\n",
    "     upper = 0\n",
    "     lower = 0\n",
    "     standardString = 'abcdefghijklmnopqrstuvwxyz'\n",
    "     for letter in string:\n",
    "         for sampleLetter in standardString:\n",
    "             if letter == sampleLetter:\n",
    "                 lower += 1\n",
    "             elif letter == sampleLetter.upper():\n",
    "                 upper += 1\n",
    "             \n",
    "     print(\"Upper Case Letter in the String are: {},\\nLower Case letters in the String are: {}\".format(upper, lower))\n",
    "string = input(\"Enter Any CamelCase String: \")\n",
    "caseCounter(string)\n"
   ]
  },
  {
   "cell_type": "code",
   "execution_count": 4,
   "metadata": {},
   "outputs": [
    {
     "name": "stdout",
     "output_type": "stream",
     "text": [
      "4\n",
      "32\n",
      "90\n",
      "42\n"
     ]
    }
   ],
   "source": [
    "'''Question:3 \n",
    "Write a Python function to print the even numbers from a given list.'''\n",
    "\n",
    "numberList = [4, 5, 32, 45, 89, 90, 87, 65, 101, 42]\n",
    "for i in numberList:\n",
    "     if i % 2 == 0:\n",
    "         print(i)\n",
    "\n"
   ]
  },
  {
   "cell_type": "code",
   "execution_count": 5,
   "metadata": {},
   "outputs": [
    {
     "name": "stdout",
     "output_type": "stream",
     "text": [
      "Enter any word: pop\n",
      "pop is a Palindrom\n"
     ]
    }
   ],
   "source": [
    "'''Question:4 \n",
    "Write a Python function that checks whether a passed string is palindrome or not. \n",
    "Note: A palindrome is a word, phrase, or sequence that reads the same backward as forward, e.g., madam'''\n",
    "\n",
    "def isPalindrom(palWord):\n",
    "    firstHalf = []\n",
    "    secondHalf = []\n",
    "    if len(palWord) % 2 == 1:\n",
    "        oddList = (len(palWord) // 2)\n",
    "        for element in range(oddList):\n",
    "            firstHalf.append(palWord[element])\n",
    "            for element in range(-1, -(len(palWord)-oddList), -1):\n",
    "                secondHalf.append(palWord[element])\n",
    "    else:\n",
    "        print(\"Not palindrom Word\")\n",
    "    palindrom = False\n",
    "    for element in range(len(firstHalf)):\n",
    "        if firstHalf[element] == secondHalf[element]:\n",
    "            palindrom = True\n",
    "            if palindrom == True:\n",
    "                print(\"{} is a Palindrom\".format(palWord))\n",
    "            else:\n",
    "                print(\"Not a palindrom\")\n",
    "palWord = input('Enter any word: ')\n",
    "isPalindrom(palWord)\n"
   ]
  },
  {
   "cell_type": "code",
   "execution_count": 6,
   "metadata": {},
   "outputs": [
    {
     "name": "stdout",
     "output_type": "stream",
     "text": [
      "Enter any number: 9\n",
      "9 is a prime number.\n",
      "Not a prime Number\n",
      "3 times 3 is a 9.\n"
     ]
    }
   ],
   "source": [
    "'''Question:5 \n",
    "Write a Python function that takes a number as a parameter and check the number is prime or not.'''\n",
    "\n",
    "def isPositiveInteger(number):\n",
    "    try:\n",
    "        number = int(number)\n",
    "        return True\n",
    "    except:\n",
    "        return False\n",
    "\n",
    "def checkPrime(number):\n",
    "    isPrime = isPositiveInteger(number)\n",
    "    if isPrime:\n",
    "        number = int(number)\n",
    "        for i in range(2, number):\n",
    "            if (number % i == 0):\n",
    "                print(\"Not a prime Number\")\n",
    "                print(\"{} times {} is a {}.\".format(i, number // i, number))\n",
    "                break\n",
    "            else:\n",
    "                print(\"{} is a prime number.\".format(number))\n",
    "    else:\n",
    "        print(\"Enter positive integers only\")\n",
    "number = input(\"Enter any number: \")\n",
    "checkPrime(number)\n"
   ]
  },
  {
   "cell_type": "code",
   "execution_count": 7,
   "metadata": {},
   "outputs": [
    {
     "name": "stdout",
     "output_type": "stream",
     "text": [
      "Enter Shopping item [-1 to abort]: mangoes\n",
      "You purchased: mangoes\n",
      "Enter Shopping item [-1 to abort]: -1\n"
     ]
    }
   ],
   "source": [
    "'''Question: 6 \n",
    "Suppose a customer is shopping in a market and you need to print all the items which user bought from market. \n",
    "Write a function which accepts the multiple arguments of user shopping list and \n",
    "print all the items which user bought from market. \n",
    "(Hint: Arbitrary Argument concept can make this task ease)'''\n",
    "\n",
    "def shoppingList(*items):\n",
    "    shoppingItems = []\n",
    "    while True:\n",
    "        item = input(\"Enter Shopping item [-1 to abort]: \")\n",
    "        if item != '-1':\n",
    "            shoppingItems.append(item)\n",
    "        else:\n",
    "            break\n",
    "        for item in range(len(shoppingItems)):\n",
    "            print(\"You purchased: {}\".format(shoppingItems[item]))\n",
    "shoppingList()"
   ]
  },
  {
   "cell_type": "code",
   "execution_count": null,
   "metadata": {},
   "outputs": [],
   "source": []
  }
 ],
 "metadata": {
  "kernelspec": {
   "display_name": "Python 3",
   "language": "python",
   "name": "python3"
  },
  "language_info": {
   "codemirror_mode": {
    "name": "ipython",
    "version": 3
   },
   "file_extension": ".py",
   "mimetype": "text/x-python",
   "name": "python",
   "nbconvert_exporter": "python",
   "pygments_lexer": "ipython3",
   "version": "3.7.4"
  }
 },
 "nbformat": 4,
 "nbformat_minor": 2
}
