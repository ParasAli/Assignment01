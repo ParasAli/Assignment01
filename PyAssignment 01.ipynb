{
 "cells": [
  {
   "cell_type": "code",
   "execution_count": 1,
   "metadata": {},
   "outputs": [
    {
     "name": "stdout",
     "output_type": "stream",
     "text": [
      " Twinkle, twinkle, little star,\n",
      "How I wonder what you are!\n",
      "Up above the world so high,\n",
      "Like a diamond in the sky.\n",
      "Twinkle, twinkle, little star,\n",
      "How I wonder what you are\n"
     ]
    }
   ],
   "source": [
    "#Print the following string in a specific format\n",
    "print(\" Twinkle, twinkle, little star,\\nHow I wonder what you are!\\nUp above the world so high,\\nLike a diamond in the sky.\\nTwinkle, twinkle, little star,\\nHow I wonder what you are\")"
   ]
  },
  {
   "cell_type": "code",
   "execution_count": 2,
   "metadata": {},
   "outputs": [
    {
     "name": "stdout",
     "output_type": "stream",
     "text": [
      "Python version is  3.7.4\n"
     ]
    }
   ],
   "source": [
    "#Program to get the Python version you are using\n",
    "from platform import python_version\n",
    "print(\"Python version is \",python_version())"
   ]
  },
  {
   "cell_type": "code",
   "execution_count": 3,
   "metadata": {},
   "outputs": [
    {
     "name": "stdout",
     "output_type": "stream",
     "text": [
      "Current date and time is  2019-11-14 12:29:36.387050\n"
     ]
    }
   ],
   "source": [
    "#Program to display the current date and time\n",
    "import datetime\n",
    "now = datetime.datetime.now()\n",
    "print(\"Current date and time is \", now)"
   ]
  },
  {
   "cell_type": "code",
   "execution_count": 4,
   "metadata": {},
   "outputs": [
    {
     "name": "stdout",
     "output_type": "stream",
     "text": [
      "Enter radius 4\n",
      "Area of circle =  50.26548245743669\n"
     ]
    }
   ],
   "source": [
    "#Program which accepts the radius of a circle from the user and compute the area\n",
    "import math\n",
    "r = int(input(\"Enter radius \"))\n",
    "area = math.pi * r *r\n",
    "print(\"Area of circle = \", area)"
   ]
  },
  {
   "cell_type": "code",
   "execution_count": 5,
   "metadata": {},
   "outputs": [
    {
     "name": "stdout",
     "output_type": "stream",
     "text": [
      "Enter your first name Paras\n",
      "Enter your Last name Ali\n",
      "Ali Paras\n"
     ]
    }
   ],
   "source": [
    "#Python program which accepts the user's first and last name and print them in reverse order with a space between them.\n",
    "a = input(\"Enter your first name \")\n",
    "b = input(\"Enter your Last name \")\n",
    "c = b + \" \" + a\n",
    "print(c)"
   ]
  },
  {
   "cell_type": "code",
   "execution_count": 6,
   "metadata": {},
   "outputs": [
    {
     "name": "stdout",
     "output_type": "stream",
     "text": [
      "Enter first value 5\n",
      "Enter second value 6\n",
      "total = 11\n"
     ]
    }
   ],
   "source": [
    "#Program which takes two inputs from user and print them addition\n",
    "x = int(input(\"Enter first value \"))\n",
    "y = int(input(\"Enter second value \")) \n",
    "z = x + y\n",
    "print(\"total =\", z)"
   ]
  },
  {
   "cell_type": "code",
   "execution_count": null,
   "metadata": {},
   "outputs": [],
   "source": []
  }
 ],
 "metadata": {
  "kernelspec": {
   "display_name": "Python 3",
   "language": "python",
   "name": "python3"
  },
  "language_info": {
   "codemirror_mode": {
    "name": "ipython",
    "version": 3
   },
   "file_extension": ".py",
   "mimetype": "text/x-python",
   "name": "python",
   "nbconvert_exporter": "python",
   "pygments_lexer": "ipython3",
   "version": "3.7.4"
  }
 },
 "nbformat": 4,
 "nbformat_minor": 2
}
